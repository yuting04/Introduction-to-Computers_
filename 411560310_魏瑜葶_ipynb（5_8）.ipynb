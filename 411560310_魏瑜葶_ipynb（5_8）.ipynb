{
  "nbformat": 4,
  "nbformat_minor": 0,
  "metadata": {
    "colab": {
      "provenance": [],
      "authorship_tag": "ABX9TyNkYkpOawit3J0pIfRvUMx1",
      "include_colab_link": true
    },
    "kernelspec": {
      "name": "python3",
      "display_name": "Python 3"
    },
    "language_info": {
      "name": "python"
    }
  },
  "cells": [
    {
      "cell_type": "markdown",
      "metadata": {
        "id": "view-in-github",
        "colab_type": "text"
      },
      "source": [
        "<a href=\"https://colab.research.google.com/github/yuting04/Introduction-to-Computers_/blob/main/411560310_%E9%AD%8F%E7%91%9C%E8%91%B6_ipynb%EF%BC%885_8%EF%BC%89.ipynb\" target=\"_parent\"><img src=\"https://colab.research.google.com/assets/colab-badge.svg\" alt=\"Open In Colab\"/></a>"
      ]
    },
    {
      "cell_type": "code",
      "execution_count": 7,
      "metadata": {
        "colab": {
          "base_uri": "https://localhost:8080/"
        },
        "id": "4uKQrooDoD2G",
        "outputId": "a7489a53-e10f-4da5-f220-290d079d5e47"
      },
      "outputs": [
        {
          "output_type": "stream",
          "name": "stdout",
          "text": [
            "請輸入體溫：37\n",
            "體溫略高!\n"
          ]
        }
      ],
      "source": [
        "c = float(input(\"請輸入體溫：\"))\n",
        "\n",
        "if(c >=37.5 ):\n",
        "  print(\" 體溫過高!\")\n",
        "elif(c <=37.4 and c >=37) :\n",
        "  print(\"體溫略高!\")\n",
        "elif(c <=34 and c >=36.9) :\n",
        "  print(\"體溫正常!\")\n",
        "else:\n",
        "  print(\"體溫異常，請重新量測!\")"
      ]
    },
    {
      "cell_type": "code",
      "source": [
        "c = float(input(\"請輸入成績：\"))\n",
        "\n",
        "if(c >=90 ):\n",
        "  print(\"A\")\n",
        "elif(c <=89 and c >=80) :\n",
        "  print(\"B\")\n",
        "elif(c <=79 and c >=70) :\n",
        "  print(\"C\")\n",
        "elif(c <=69 and c >=60) :\n",
        "  print(\"D\")\n",
        "else:\n",
        "  print(\"E\")"
      ],
      "metadata": {
        "colab": {
          "base_uri": "https://localhost:8080/"
        },
        "id": "YYtWjtbutwTU",
        "outputId": "042108ce-8df8-4ea5-dff0-6fb07d3dcc27"
      },
      "execution_count": 8,
      "outputs": [
        {
          "output_type": "stream",
          "name": "stdout",
          "text": [
            "請輸入成績：90\n",
            "A\n"
          ]
        }
      ]
    },
    {
      "cell_type": "code",
      "source": [
        "c = float(input(\"請輸入成績：\"))\n",
        "\n",
        "if(c >=90 ):\n",
        "  print(\"A\")\n",
        "elif(c <=89 and c >=80) :\n",
        "  print(\"B\")\n",
        "elif(c <=79 and c >=70) :\n",
        "  print(\"C\")\n",
        "elif(c <=69 and c >=60) :\n",
        "  print(\"D\")\n",
        "else:\n",
        "  print(\"E\")"
      ],
      "metadata": {
        "colab": {
          "base_uri": "https://localhost:8080/"
        },
        "id": "jVnGRwHXuVvQ",
        "outputId": "3920d0ab-b7bf-45c8-f391-2169f82a5744"
      },
      "execution_count": 10,
      "outputs": [
        {
          "output_type": "stream",
          "name": "stdout",
          "text": [
            "請輸入成績：80\n",
            "B\n"
          ]
        }
      ]
    },
    {
      "cell_type": "code",
      "source": [
        "c = float(input(\"請輸入成績：\"))\n",
        "\n",
        "if(c >=90 ):\n",
        "  print(\"A\")\n",
        "elif(c <=89 and c >=80) :\n",
        "  print(\"B\")\n",
        "elif(c <=79 and c >=70) :\n",
        "  print(\"C\")\n",
        "elif(c <=69 and c >=60) :\n",
        "  print(\"D\")\n",
        "else:\n",
        "  print(\"E\")"
      ],
      "metadata": {
        "colab": {
          "base_uri": "https://localhost:8080/"
        },
        "id": "4D-gID2RuZf_",
        "outputId": "640e10d9-4c91-42d7-ed24-72ceab4023d7"
      },
      "execution_count": 11,
      "outputs": [
        {
          "output_type": "stream",
          "name": "stdout",
          "text": [
            "請輸入成績：50\n",
            "E\n"
          ]
        }
      ]
    },
    {
      "cell_type": "code",
      "source": [
        "month = int(input())\n",
        "if(month >=1 and month <= 12):\n",
        "  if(month==12 or month==1 or month==2):\n",
        "    print(\"{}月是冬天\".format(month))\n",
        "  elif(month==3 or month==4 or month==5):\n",
        "    print(\"{}月是春天\".format(month))\n",
        "  elif(month==6 or month==7 or month==8):\n",
        "    print(\"{}月是夏天\".format(month))\n",
        "  else:\n",
        "    print(\"{}月是秋天\".format(month))\n",
        "else:\n",
        "  print(\"月份不在範圍內!\")"
      ],
      "metadata": {
        "colab": {
          "base_uri": "https://localhost:8080/"
        },
        "id": "zQeXcN5tudgg",
        "outputId": "74943dbc-321f-427a-99ae-dac50d529785"
      },
      "execution_count": 22,
      "outputs": [
        {
          "output_type": "stream",
          "name": "stdout",
          "text": [
            "9\n",
            "9月是秋天\n"
          ]
        }
      ]
    }
  ]
}